{
  "nbformat": 4,
  "nbformat_minor": 0,
  "metadata": {
    "colab": {
      "name": "Untitled0.ipynb",
      "provenance": [],
      "collapsed_sections": [],
      "authorship_tag": "ABX9TyPKO/ABQ2Ilpx2ErZgkvCJF",
      "include_colab_link": true
    },
    "kernelspec": {
      "name": "python3",
      "display_name": "Python 3"
    },
    "language_info": {
      "name": "python"
    }
  },
  "cells": [
    {
      "cell_type": "markdown",
      "metadata": {
        "id": "view-in-github",
        "colab_type": "text"
      },
      "source": [
        "<a href=\"https://colab.research.google.com/github/alexandrahunt/week12HDS/blob/main/Untitled0.ipynb\" target=\"_parent\"><img src=\"https://colab.research.google.com/assets/colab-badge.svg\" alt=\"Open In Colab\"/></a>"
      ]
    },
    {
      "cell_type": "markdown",
      "metadata": {
        "id": "1XyM0SfdOqH2"
      },
      "source": [
        "#Linear Regression in TensorFlow 1\n"
      ]
    },
    {
      "cell_type": "code",
      "metadata": {
        "colab": {
          "base_uri": "https://localhost:8080/",
          "height": 279
        },
        "id": "6rGnJVKKOtFK",
        "outputId": "2c8ce632-8447-493c-fb4a-81348e0ae51b"
      },
      "source": [
        "import numpy as np \n",
        "import matplotlib.pyplot as plt \n",
        "import tensorflow as tf \n",
        "\n",
        "np.random.seed(101)              #Generating random data (change seed for diff points)\n",
        "x_train = np.linspace(0, 50, 50)\n",
        "y_train = np.linspace(0, 50, 50)\n",
        "x_train += np.random.uniform(-4, 4, 50)\n",
        "y_train += np.random.uniform(-4, 4, 50)\n",
        "n = len(x_train)                 #Number of data points\n",
        "plt.scatter(x_train, y_train)\n",
        "plt.xlabel('x')\n",
        "plt.ylabel('y')\n",
        "plt.show()"
      ],
      "execution_count": null,
      "outputs": [
        {
          "output_type": "display_data",
          "data": {
            "image/png": "[encoded data removed]",
            "text/plain": [
              "<Figure size 432x288 with 1 Axes>"
            ]
          },
          "metadata": {
            "tags": [],
            "needs_background": "light"
          }
        }
      ]
    },
    {
      "cell_type": "code",
      "metadata": {
        "colab": {
          "base_uri": "https://localhost:8080/",
          "height": 1000
        },
        "id": "4sXViNeqPq9d",
        "outputId": "02e045fb-8b24-4865-9d8b-74a391d3c38a"
      },
      "source": [
        "# One neuron, one weight and one bias. \n",
        "import numpy as np \n",
        "import matplotlib.pyplot as plt \n",
        "import tensorflow as tf\n",
        "\n",
        "layer0 = tf.keras.layers.Dense(units = 1, input_shape =[1])\n",
        "model = tf.keras.Sequential([layer0])\n",
        "model.compile(loss = 'mean_squared_error', optimizer = tf.keras.optimizers.Adam(0.1))\n",
        "history = model.fit(x_train, y_train, epochs = 100, verbose = True)\n",
        "plt.xlabel('Epochs')\n",
        "plt.ylabel('Error')       #Error or Costs.\n",
        "plt.title('Tensorflow')\n",
        "plt.plot(history.history['loss'])\n",
        "plt.show()"
      ],
      "execution_count": null,
      "outputs": [
        {
          "output_type": "stream",
          "text": [
            "Epoch 1/100\n",
            "2/2 [==============================] - 0s 7ms/step - loss: 1807.4246\n",
            "Epoch 2/100\n",
            "2/2 [==============================] - 0s 3ms/step - loss: 1178.6794\n",
            "Epoch 3/100\n",
            "2/2 [==============================] - 0s 4ms/step - loss: 828.5820\n",
            "Epoch 4/100\n",
            "2/2 [==============================] - 0s 3ms/step - loss: 554.6305\n",
            "Epoch 5/100\n",
            "2/2 [==============================] - 0s 3ms/step - loss: 359.8012\n",
            "Epoch 6/100\n",
            "2/2 [==============================] - 0s 4ms/step - loss: 164.0531\n",
            "Epoch 7/100\n",
            "2/2 [==============================] - 0s 4ms/step - loss: 67.1297\n",
            "Epoch 8/100\n",
            "2/2 [==============================] - 0s 3ms/step - loss: 22.8952\n",
            "Epoch 9/100\n",
            "2/2 [==============================] - 0s 7ms/step - loss: 10.4080\n",
            "Epoch 10/100\n",
            "2/2 [==============================] - 0s 5ms/step - loss: 22.9523\n",
            "Epoch 11/100\n",
            "2/2 [==============================] - 0s 3ms/step - loss: 45.6824\n",
            "Epoch 12/100\n",
            "2/2 [==============================] - 0s 3ms/step - loss: 65.3103\n",
            "Epoch 13/100\n",
            "2/2 [==============================] - 0s 4ms/step - loss: 80.8502\n",
            "Epoch 14/100\n",
            "2/2 [==============================] - 0s 4ms/step - loss: 79.9541\n",
            "Epoch 15/100\n",
            "2/2 [==============================] - 0s 3ms/step - loss: 73.9594\n",
            "Epoch 16/100\n",
            "2/2 [==============================] - 0s 4ms/step - loss: 62.2271\n",
            "Epoch 17/100\n",
            "2/2 [==============================] - 0s 3ms/step - loss: 48.1723\n",
            "Epoch 18/100\n",
            "2/2 [==============================] - 0s 4ms/step - loss: 31.5473\n",
            "Epoch 19/100\n",
            "2/2 [==============================] - 0s 4ms/step - loss: 18.5463\n",
            "Epoch 20/100\n",
            "2/2 [==============================] - 0s 3ms/step - loss: 12.7432\n",
            "Epoch 21/100\n",
            "2/2 [==============================] - 0s 5ms/step - loss: 10.0388\n",
            "Epoch 22/100\n",
            "2/2 [==============================] - 0s 4ms/step - loss: 10.6680\n",
            "Epoch 23/100\n",
            "2/2 [==============================] - 0s 4ms/step - loss: 12.7055\n",
            "Epoch 24/100\n",
            "2/2 [==============================] - 0s 5ms/step - loss: 15.0645\n",
            "Epoch 25/100\n",
            "2/2 [==============================] - 0s 4ms/step - loss: 17.1788\n",
            "Epoch 26/100\n",
            "2/2 [==============================] - 0s 12ms/step - loss: 17.1677\n",
            "Epoch 27/100\n",
            "2/2 [==============================] - 0s 10ms/step - loss: 16.8108\n",
            "Epoch 28/100\n",
            "2/2 [==============================] - 0s 4ms/step - loss: 15.3702\n",
            "Epoch 29/100\n",
            "2/2 [==============================] - 0s 4ms/step - loss: 13.3833\n",
            "Epoch 30/100\n",
            "2/2 [==============================] - 0s 4ms/step - loss: 11.1319\n",
            "Epoch 31/100\n",
            "2/2 [==============================] - 0s 4ms/step - loss: 11.4944\n",
            "Epoch 32/100\n",
            "2/2 [==============================] - 0s 4ms/step - loss: 10.3051\n",
            "Epoch 33/100\n",
            "2/2 [==============================] - 0s 4ms/step - loss: 10.2717\n",
            "Epoch 34/100\n",
            "2/2 [==============================] - 0s 24ms/step - loss: 10.4265\n",
            "Epoch 35/100\n",
            "2/2 [==============================] - 0s 10ms/step - loss: 10.8832\n",
            "Epoch 36/100\n",
            "2/2 [==============================] - 0s 4ms/step - loss: 10.6579\n",
            "Epoch 37/100\n",
            "2/2 [==============================] - 0s 8ms/step - loss: 10.9151\n",
            "Epoch 38/100\n",
            "2/2 [==============================] - 0s 6ms/step - loss: 10.2668\n",
            "Epoch 39/100\n",
            "2/2 [==============================] - 0s 7ms/step - loss: 11.3503\n",
            "Epoch 40/100\n",
            "2/2 [==============================] - 0s 6ms/step - loss: 9.4292\n",
            "Epoch 41/100\n",
            "2/2 [==============================] - 0s 9ms/step - loss: 9.7076\n",
            "Epoch 42/100\n",
            "2/2 [==============================] - 0s 4ms/step - loss: 9.9074\n",
            "Epoch 43/100\n",
            "2/2 [==============================] - 0s 4ms/step - loss: 10.1857\n",
            "Epoch 44/100\n",
            "2/2 [==============================] - 0s 4ms/step - loss: 9.8193\n",
            "Epoch 45/100\n",
            "2/2 [==============================] - 0s 4ms/step - loss: 9.9817\n",
            "Epoch 46/100\n",
            "2/2 [==============================] - 0s 4ms/step - loss: 9.4943\n",
            "Epoch 47/100\n",
            "2/2 [==============================] - 0s 6ms/step - loss: 10.1690\n",
            "Epoch 48/100\n",
            "2/2 [==============================] - 0s 4ms/step - loss: 9.6088\n",
            "Epoch 49/100\n",
            "2/2 [==============================] - 0s 7ms/step - loss: 10.5524\n",
            "Epoch 50/100\n",
            "2/2 [==============================] - 0s 7ms/step - loss: 11.0059\n",
            "Epoch 51/100\n",
            "2/2 [==============================] - 0s 5ms/step - loss: 8.8936\n",
            "Epoch 52/100\n",
            "2/2 [==============================] - 0s 7ms/step - loss: 9.7830\n",
            "Epoch 53/100\n",
            "2/2 [==============================] - 0s 5ms/step - loss: 10.0100\n",
            "Epoch 54/100\n",
            "2/2 [==============================] - 0s 6ms/step - loss: 9.4431\n",
            "Epoch 55/100\n",
            "2/2 [==============================] - 0s 18ms/step - loss: 9.8039\n",
            "Epoch 56/100\n",
            "2/2 [==============================] - 0s 4ms/step - loss: 9.7156\n",
            "Epoch 57/100\n",
            "2/2 [==============================] - 0s 19ms/step - loss: 9.8587\n",
            "Epoch 58/100\n",
            "2/2 [==============================] - 0s 4ms/step - loss: 10.3362\n",
            "Epoch 59/100\n",
            "2/2 [==============================] - 0s 5ms/step - loss: 10.4124\n",
            "Epoch 60/100\n",
            "2/2 [==============================] - 0s 5ms/step - loss: 9.5163\n",
            "Epoch 61/100\n",
            "2/2 [==============================] - 0s 5ms/step - loss: 10.0065\n",
            "Epoch 62/100\n",
            "2/2 [==============================] - 0s 5ms/step - loss: 9.9345\n",
            "Epoch 63/100\n",
            "2/2 [==============================] - 0s 5ms/step - loss: 10.5643\n",
            "Epoch 64/100\n",
            "2/2 [==============================] - 0s 11ms/step - loss: 10.5518\n",
            "Epoch 65/100\n",
            "2/2 [==============================] - 0s 5ms/step - loss: 9.9867\n",
            "Epoch 66/100\n",
            "2/2 [==============================] - 0s 6ms/step - loss: 9.9489\n",
            "Epoch 67/100\n",
            "2/2 [==============================] - 0s 4ms/step - loss: 9.8179\n",
            "Epoch 68/100\n",
            "2/2 [==============================] - 0s 5ms/step - loss: 10.1315\n",
            "Epoch 69/100\n",
            "2/2 [==============================] - 0s 5ms/step - loss: 8.6175\n",
            "Epoch 70/100\n",
            "2/2 [==============================] - 0s 5ms/step - loss: 9.9208\n",
            "Epoch 71/100\n",
            "2/2 [==============================] - 0s 4ms/step - loss: 9.3811\n",
            "Epoch 72/100\n",
            "2/2 [==============================] - 0s 4ms/step - loss: 10.2047\n",
            "Epoch 73/100\n",
            "2/2 [==============================] - 0s 4ms/step - loss: 10.0947\n",
            "Epoch 74/100\n",
            "2/2 [==============================] - 0s 4ms/step - loss: 10.2441\n",
            "Epoch 75/100\n",
            "2/2 [==============================] - 0s 5ms/step - loss: 9.7009\n",
            "Epoch 76/100\n",
            "2/2 [==============================] - 0s 5ms/step - loss: 9.8940\n",
            "Epoch 77/100\n",
            "2/2 [==============================] - 0s 5ms/step - loss: 10.1841\n",
            "Epoch 78/100\n",
            "2/2 [==============================] - 0s 5ms/step - loss: 10.0968\n",
            "Epoch 79/100\n",
            "2/2 [==============================] - 0s 5ms/step - loss: 10.4017\n",
            "Epoch 80/100\n",
            "2/2 [==============================] - 0s 4ms/step - loss: 9.6814\n",
            "Epoch 81/100\n",
            "2/2 [==============================] - 0s 5ms/step - loss: 9.1997\n",
            "Epoch 82/100\n",
            "2/2 [==============================] - 0s 5ms/step - loss: 10.3109\n",
            "Epoch 83/100\n",
            "2/2 [==============================] - 0s 5ms/step - loss: 9.8011\n",
            "Epoch 84/100\n",
            "2/2 [==============================] - 0s 4ms/step - loss: 10.3198\n",
            "Epoch 85/100\n",
            "2/2 [==============================] - 0s 5ms/step - loss: 9.4094\n",
            "Epoch 86/100\n",
            "2/2 [==============================] - 0s 4ms/step - loss: 9.5989\n",
            "Epoch 87/100\n",
            "2/2 [==============================] - 0s 4ms/step - loss: 9.5747\n",
            "Epoch 88/100\n",
            "2/2 [==============================] - 0s 4ms/step - loss: 10.0924\n",
            "Epoch 89/100\n",
            "2/2 [==============================] - 0s 5ms/step - loss: 9.9812\n",
            "Epoch 90/100\n",
            "2/2 [==============================] - 0s 3ms/step - loss: 9.9060\n",
            "Epoch 91/100\n",
            "2/2 [==============================] - 0s 4ms/step - loss: 9.8054\n",
            "Epoch 92/100\n",
            "2/2 [==============================] - 0s 4ms/step - loss: 9.6025\n",
            "Epoch 93/100\n",
            "2/2 [==============================] - 0s 6ms/step - loss: 9.9432\n",
            "Epoch 94/100\n",
            "2/2 [==============================] - 0s 3ms/step - loss: 9.3131\n",
            "Epoch 95/100\n",
            "2/2 [==============================] - 0s 4ms/step - loss: 9.2141\n",
            "Epoch 96/100\n",
            "2/2 [==============================] - 0s 3ms/step - loss: 9.9723\n",
            "Epoch 97/100\n",
            "2/2 [==============================] - 0s 3ms/step - loss: 9.9526\n",
            "Epoch 98/100\n",
            "2/2 [==============================] - 0s 3ms/step - loss: 9.6151\n",
            "Epoch 99/100\n",
            "2/2 [==============================] - 0s 4ms/step - loss: 10.4625\n",
            "Epoch 100/100\n",
            "2/2 [==============================] - 0s 10ms/step - loss: 9.5628\n"
          ],
          "name": "stdout"
        },
        {
          "output_type": "display_data",
          "data": {
            "image/png": "[encoded data removed]",
            "text/plain": [
              "<Figure size 432x288 with 1 Axes>"
            ]
          },
          "metadata": {
            "tags": [],
            "needs_background": "light"
          }
        }
      ]
    },
    {
      "cell_type": "code",
      "metadata": {
        "colab": {
          "base_uri": "https://localhost:8080/",
          "height": 297
        },
        "id": "EDXDI8gARhEf",
        "outputId": "befd9591-3b9b-48ed-9205-b5e3525f5873"
      },
      "source": [
        "weights = layer0.get_weights()\n",
        "weight = weights[0][0]\n",
        "bias = weights[1]\n",
        "print('Weight: {}  Bias: {}'.format(weight,bias))\n",
        "y_learned = x_train * weight + bias               # Weight = gradient, Bias = y-intercept\n",
        "plt.scatter(x_train, y_train, label = 'Training Data')\n",
        "plt.plot(x_train, y_learned, color = 'green', label = 'Fit line')\n",
        "plt.legend()\n",
        "plt.xlabel('x') \n",
        "plt.ylabel('y')\n",
        "plt.show()"
      ],
      "execution_count": null,
      "outputs": [
        {
          "output_type": "stream",
          "text": [
            "Weight: [0.9634912]  Bias: [0.7467499]\n"
          ],
          "name": "stdout"
        },
        {
          "output_type": "display_data",
          "data": {
            "image/png": "[encoded data removed]",
            "text/plain": [
              "<Figure size 432x288 with 1 Axes>"
            ]
          },
          "metadata": {
            "tags": [],
            "needs_background": "light"
          }
        }
      ]
    },
    {
      "cell_type": "code",
      "metadata": {
        "id": "twlsFpxnTIiv"
      },
      "source": [
        ""
      ],
      "execution_count": null,
      "outputs": []
    },
    {
      "cell_type": "markdown",
      "metadata": {
        "id": "PkcVv-9STqjE"
      },
      "source": [
        "#XOR TensorFlow 2 "
      ]
    },
    {
      "cell_type": "code",
      "metadata": {
        "colab": {
          "base_uri": "https://localhost:8080/"
        },
        "id": "63KKjLrjTsna",
        "outputId": "a1ac74d5-1b8a-4981-c0c7-15c2f745ff7f"
      },
      "source": [
        "import numpy as np\n",
        "import matplotlib.pyplot as plt\n",
        "import pandas as pd\n",
        "import tensorflow as tf\n",
        "from tensorflow import keras\n",
        "import sys\n",
        "\n",
        "training_data = np.array([[0,0],[0, 1], [1, 0], [1, 1]], 'float32')\n",
        "target_data = np.array([[0], [1], [1], [0]], 'float32')\n",
        "model = tf.keras.models.Sequential()\n",
        "model.add(tf.keras.layers.Dense(4, input_dim = 2, activation = 'relu'))\n",
        "model.add(tf.keras.layers.Dense(1, activation = 'sigmoid'))\n",
        "\n",
        "model.compile(loss='mean_squared_error',optimizer=tf.keras.optimizers.Adam(0.1),metrics=['accuracy'])\n",
        "hist = model.fit(training_data, target_data, epochs = 600, verbose = 0)\n",
        "print(model.predict(training_data).round())\n",
        "val_loss, val_acc = model.evaluate(training_data, target_data)\n",
        "print(val_loss, val_acc)"
      ],
      "execution_count": null,
      "outputs": [
        {
          "output_type": "stream",
          "text": [
            "[[1.]\n",
            " [1.]\n",
            " [1.]\n",
            " [0.]]\n",
            "1/1 [==============================] - 0s 100ms/step - loss: 0.1667 - accuracy: 0.7500\n",
            "0.16666719317436218 0.75\n"
          ],
          "name": "stdout"
        }
      ]
    },
    {
      "cell_type": "code",
      "metadata": {
        "colab": {
          "base_uri": "https://localhost:8080/",
          "height": 279
        },
        "id": "9hEVOZR5Ttbi",
        "outputId": "91ab8101-8b3d-4d70-cbf3-0534eee98465"
      },
      "source": [
        "loss_curve = hist.history[\"loss\"]\n",
        "acc_curve = hist.history[\"accuracy\"]\n",
        "plt.plot(loss_curve, label='Loss')\n",
        "plt.plot(acc_curve, label='Accuracy')\n",
        "plt.xlabel('Epochs')\n",
        "plt.legend()\n",
        "plt.show()"
      ],
      "execution_count": null,
      "outputs": [
        {
          "output_type": "display_data",
          "data": {
            "image/png": "[encoded data removed]",
            "text/plain": [
              "<Figure size 432x288 with 1 Axes>"
            ]
          },
          "metadata": {
            "tags": [],
            "needs_background": "light"
          }
        }
      ]
    },
    {
      "cell_type": "code",
      "metadata": {
        "id": "0f3_sZ8_T209"
      },
      "source": [
        ""
      ],
      "execution_count": null,
      "outputs": []
    }
  ]
}