{
  "nbformat": 4,
  "nbformat_minor": 0,
  "metadata": {
    "colab": {
      "name": "Discrete_Hopfield_Network.ipynb",
      "provenance": [],
      "include_colab_link": true
    },
    "kernelspec": {
      "name": "python3",
      "display_name": "Python 3"
    }
  },
  "cells": [
    {
      "cell_type": "markdown",
      "metadata": {
        "id": "view-in-github",
        "colab_type": "text"
      },
      "source": [
        "<a href=\"https://colab.research.google.com/github/alexandrahunt/week12HDS/blob/main/Discrete_Hopfield_Network.ipynb\" target=\"_parent\"><img src=\"https://colab.research.google.com/assets/colab-badge.svg\" alt=\"Open In Colab\"/></a>"
      ]
    },
    {
      "cell_type": "markdown",
      "metadata": {
        "id": "SKleE01EsM1-"
      },
      "source": [
        "The Discrete Hopfield Network"
      ]
    },
    {
      "cell_type": "code",
      "metadata": {
        "id": "j6DD-T9isSZu",
        "colab": {
          "base_uri": "https://localhost:8080/",
          "height": 451
        },
        "outputId": "5a342d14-ab29-4213-893a-2c1052c09705"
      },
      "source": [
        "# Hopfield Model\n",
        "\n",
        "import matplotlib.pyplot as plt\n",
        "import numpy as np\n",
        "import random\n",
        "\n",
        "\n",
        "nb_patterns = 5\n",
        "pattern_width = 9\n",
        "pattern_height = 9\n",
        "max_iterations = 81\n",
        "\n",
        "# Initialize the patterns\n",
        "X = np.zeros((nb_patterns, pattern_width * pattern_height))\n",
        "\n",
        "X[0] = [-1, -1, -1, -1, -1, -1, -1, -1, -1, -1, -1, -1, 1, 1, 1, -1, -1, -1, -1, -1, 1, 1, -1, 1, 1, -1, -1, -1, -1, 1, 1, -1, \n",
        " 1, 1, -1, -1, -1, -1, 1, 1, -1, 1, 1, -1, -1, -1, -1, 1, 1, -1, 1, 1, -1, -1, -1, -1, 1, 1, -1, 1, 1, -1, -1, -1, -1, -1, 1, 1, \n",
        " 1, -1, -1, -1, -1, -1, -1, -1, -1, -1, -1, -1, -1]\n",
        "X[1] = [-1, -1, -1, 1, 1, 1, -1, -1, -1, -1, -1, -1, 1, 1, 1, -1, -1, -1, -1, -1, -1, 1, 1, 1, -1, -1, -1, -1, -1, -1, 1, 1, 1,\n",
        " -1, -1, -1, -1, -1, -1, 1, 1, 1, -1, -1, -1, -1, -1, -1, 1, 1, 1, -1, -1, -1, -1, -1, -1, 1, 1, 1, -1, -1, -1, -1, -1, -1, 1, 1,\n",
        " 1, -1, -1, -1, -1, -1, -1, 1, 1, 1, -1, -1, -1]\n",
        "X[2] = [-1, -1, 1, 1, 1, 1, 1, -1, -1, -1, 1, -1,\t-1, -1, -1, -1,\t1, -1,\t-1, -1, -1, -1,\t-1, -1, -1, 1, -1,\t-1, -1, -1, -1,\t\n",
        " -1, -1, 1,\t-1, -1,\t-1, -1, -1, -1,\t-1, 1, -1,\t-1, -1,   -1, -1, -1, -1, 1, -1, -1, -1,\t-1,   -1, -1, -1, 1, -1, -1, -1,\t-1, -1, \n",
        " -1, -1,\t1, -1, -1,\t-1, -1, -1, -1,\t -1, 1, 1, 1, 1, 1, 1, 1, -1]\n",
        "X[3] = [-1, 1, 1, -1, -1, -1, 1, 1, -1,  -1, 1, 1, -1, -1, -1, 1, 1, -1, -1, 1, 1, -1, -1, -1, 1, 1, -1, -1, 1, 1, -1, -1, -1, 1, \n",
        " 1, -1, -1,  1, 1, 1, 1, 1, 1, 1, -1,  -1, -1, -1, -1, -1, -1, 1, 1, -1, -1, -1, -1, -1, -1, -1, 1, 1, -1,  -1, -1, -1, -1, -1, \n",
        " -1, 1, 1, -1,  -1, -1, -1, -1, -1, -1, 1, 1, -1]\n",
        "X[4] = [1, 1, 1, 1, 1, 1, -1, -1, -1,  1, 1, -1, -1, -1, -1, -1, -1, -1, 1, 1, -1, -1, -1, -1, -1, -1, -1,  1, 1, 1, 1, 1, 1, -1, \n",
        " -1, -1, 1, 1, -1, -1, 1, 1, -1, -1, -1, 1, 1, -1, -1, 1, 1, -1, -1, -1,  1, 1, -1, -1, 1, 1, -1, -1, -1, 1, 1, -1, -1, 1, 1, -1, \n",
        " -1, -1, 1, 1, 1, 1, 1, 1, -1, -1, -1]\n",
        "\n",
        "# Show the patterns\n",
        "fig, ax = plt.subplots(1, nb_patterns, figsize=(10, 5))\n",
        "\n",
        "for i in range(nb_patterns):\n",
        "    ax[i].matshow(X[i].reshape((pattern_height, pattern_width)), cmap='gray')\n",
        "    ax[i].set_xticks([])\n",
        "    ax[i].set_yticks([])\n",
        "    \n",
        "plt.show()\n",
        "\n",
        "W = ((np.outer(X[0],X[0])+np.outer(X[1],X[1])+np.outer(X[2],X[2])+np.outer(X[3],X[3])+np.outer(X[4],X[4]))-5*np.identity(81))/81\n",
        "\n",
        "def hsgn(v, x):\n",
        "    if v>0:\n",
        "        return 1\n",
        "    elif v == 0:\n",
        "        return x\n",
        "    else:\n",
        "        return -1\n",
        "        \n",
        "# Create a corrupted test pattern\n",
        "\n",
        "noiselevel = 1/3\n",
        "values = list(range(nb_patterns))\n",
        "patInd = random.choice(values)\n",
        "Y = np.array(X[patInd])\n",
        "x_test = np.array((2*(np.random.rand(81, 1).flatten() > noiselevel)-1)*Y)\n",
        "x_test.flatten()\n",
        "print('Pattern index=',patInd)\n",
        "\n",
        "# Recover the original patterns\n",
        "A = x_test.copy()\n",
        "A.flatten()\n",
        "\n",
        "n=np.random.permutation(81)\n",
        "\n",
        "for _ in range(max_iterations):\n",
        "    for j in range(81):\n",
        "        A[n[j]]=hsgn(np.dot(W[n[j]],A), A[n[j]])\n",
        "\n",
        "\n",
        "# Show corrupted and recovered patterns\n",
        "fig, ax = plt.subplots(1, 2, figsize=(10, 5))\n",
        "\n",
        "ax[0].matshow(x_test.reshape(pattern_height, pattern_width), cmap='gray')\n",
        "ax[0].set_title('Corrupted pattern')\n",
        "ax[0].set_xticks([])\n",
        "ax[0].set_yticks([])\n",
        "\n",
        "ax[1].matshow(A.reshape(pattern_height, pattern_width), cmap='gray')\n",
        "ax[1].set_title('Recovered pattern')\n",
        "ax[1].set_xticks([])\n",
        "ax[1].set_yticks([])\n",
        "\n",
        "plt.show()"
      ],
      "execution_count": null,
      "outputs": [
        {
          "output_type": "display_data",
          "data": {
            "image/png": "[encoded data removed]",
            "text/plain": [
              "<Figure size 720x360 with 5 Axes>"
            ]
          },
          "metadata": {
            "tags": []
          }
        },
        {
          "output_type": "stream",
          "text": [
            "Pattern index= 1\n"
          ],
          "name": "stdout"
        },
        {
          "output_type": "display_data",
          "data": {
            "image/png": "[encoded data removed]",
            "text/plain": [
              "<Figure size 720x360 with 2 Axes>"
            ]
          },
          "metadata": {
            "tags": []
          }
        }
      ]
    }
  ]
}